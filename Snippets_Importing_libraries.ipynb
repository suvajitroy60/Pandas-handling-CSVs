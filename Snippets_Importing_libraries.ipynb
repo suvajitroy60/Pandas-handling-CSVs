{
  "cells": [
    {
      "cell_type": "markdown",
      "metadata": {
        "id": "view-in-github",
        "colab_type": "text"
      },
      "source": [
        "<a href=\"https://colab.research.google.com/github/suvajitroy60/Pandas-handling-CSVs/blob/main/Snippets_Importing_libraries.ipynb\" target=\"_parent\"><img src=\"https://colab.research.google.com/assets/colab-badge.svg\" alt=\"Open In Colab\"/></a>"
      ]
    },
    {
      "cell_type": "markdown",
      "metadata": {
        "id": "kDn_lVxg3Z2G"
      },
      "source": [
        "# Importing a library handling CSV\n",
        "\n",
        "To import a library that's not in Colaboratory by default, you can use `!pip install` or `!apt-get install`."
      ]
    },
    {
      "cell_type": "code",
      "source": [
        "!pip install pandas as pd\n"
      ],
      "metadata": {
        "id": "xxKdsEA1HIxV",
        "outputId": "bc5d7999-a03a-4900-e5e1-271b094dfd36",
        "colab": {
          "base_uri": "https://localhost:8080/"
        }
      },
      "execution_count": null,
      "outputs": [
        {
          "output_type": "stream",
          "name": "stdout",
          "text": [
            "Requirement already satisfied: pandas in /usr/local/lib/python3.11/dist-packages (2.2.2)\n",
            "Requirement already satisfied: numpy>=1.23.2 in /usr/local/lib/python3.11/dist-packages (from pandas) (2.0.2)\n",
            "Requirement already satisfied: python-dateutil>=2.8.2 in /usr/local/lib/python3.11/dist-packages (from pandas) (2.9.0.post0)\n",
            "Requirement already satisfied: pytz>=2020.1 in /usr/local/lib/python3.11/dist-packages (from pandas) (2025.2)\n",
            "Requirement already satisfied: tzdata>=2022.7 in /usr/local/lib/python3.11/dist-packages (from pandas) (2025.2)\n",
            "Requirement already satisfied: six>=1.5 in /usr/local/lib/python3.11/dist-packages (from python-dateutil>=2.8.2->pandas) (1.17.0)\n"
          ]
        }
      ]
    },
    {
      "cell_type": "code",
      "source": [
        "import pandas as pd\n",
        "\n",
        "# Replace with the raw link to your CSV file on GitHub\n",
        "github_csv_url = 'https://raw.githubusercontent.com/suvajitroy60/Pandas-handling-CSVs/refs/heads/main/warmup-data/coffee.csv'\n",
        "\n",
        "coffee = pd.read_csv(github_csv_url)\n",
        "\n",
        "# Display the first few rows to verify\n",
        "print(\" Coffee Shop :\")\n",
        "print(coffee.head())"
      ],
      "metadata": {
        "id": "YTU1CmccG9GI",
        "colab": {
          "base_uri": "https://localhost:8080/"
        },
        "outputId": "c1e26390-37dc-4177-cfa6-f826b6307ffd"
      },
      "execution_count": null,
      "outputs": [
        {
          "output_type": "stream",
          "name": "stdout",
          "text": [
            " Coffee Shop :\n",
            "         Item Category  Price  In_Stock\n",
            "0    Espresso    Drink   3.50      True\n",
            "1       Latte    Drink   4.00      True\n",
            "2  Cappuccino    Drink   4.25      True\n",
            "3   Croissant   Pastry   2.50      True\n",
            "4      Muffin   Pastry   2.75     False\n"
          ]
        }
      ]
    },
    {
      "cell_type": "markdown",
      "source": [
        "# Create a sample DataFrame"
      ],
      "metadata": {
        "id": "vnqT5saEOfGg"
      }
    },
    {
      "cell_type": "code",
      "source": [
        "data = {\n",
        "    'Day': ['Monday', 'Monday', 'Tuesday', 'Tuesday', 'Wednesday', 'Wednesday',\n",
        "            'Thursday', 'Thursday', 'Friday', 'Friday', 'Saturday', 'Saturday',\n",
        "            'Sunday', 'Sunday'],\n",
        "    'Coffee Type': ['Espresso', 'Latte', 'Espresso', 'Latte', 'Espresso', 'Latte',\n",
        "                    'Espresso', 'Latte', 'Espresso', 'Latte', 'Espresso', 'Latte',\n",
        "                    'Espresso', 'Latte'],\n",
        "    'Price': [25, 15, 30, 20, 35, 25, 40, 30, 45, 35, 45, 35, 45, 35]\n",
        "}\n",
        "\n",
        "df = pd.DataFrame(data)\n",
        "print(df)\n",
        "\n",
        "df.describe()\n"
      ],
      "metadata": {
        "colab": {
          "base_uri": "https://localhost:8080/",
          "height": 561
        },
        "id": "7ZlZp30yOlUX",
        "outputId": "ed9d2ce6-7db9-4c2f-d354-a2cc73481c43"
      },
      "execution_count": null,
      "outputs": [
        {
          "output_type": "stream",
          "name": "stdout",
          "text": [
            "          Day Coffee Type  Price\n",
            "0      Monday    Espresso     25\n",
            "1      Monday       Latte     15\n",
            "2     Tuesday    Espresso     30\n",
            "3     Tuesday       Latte     20\n",
            "4   Wednesday    Espresso     35\n",
            "5   Wednesday       Latte     25\n",
            "6    Thursday    Espresso     40\n",
            "7    Thursday       Latte     30\n",
            "8      Friday    Espresso     45\n",
            "9      Friday       Latte     35\n",
            "10   Saturday    Espresso     45\n",
            "11   Saturday       Latte     35\n",
            "12     Sunday    Espresso     45\n",
            "13     Sunday       Latte     35\n"
          ]
        },
        {
          "output_type": "execute_result",
          "data": {
            "text/plain": [
              "           Price\n",
              "count  14.000000\n",
              "mean   32.857143\n",
              "std     9.346798\n",
              "min    15.000000\n",
              "25%    26.250000\n",
              "50%    35.000000\n",
              "75%    38.750000\n",
              "max    45.000000"
            ],
            "text/html": [
              "\n",
              "  <div id=\"df-0c1ac3b9-584a-4b5b-a718-885926960334\" class=\"colab-df-container\">\n",
              "    <div>\n",
              "<style scoped>\n",
              "    .dataframe tbody tr th:only-of-type {\n",
              "        vertical-align: middle;\n",
              "    }\n",
              "\n",
              "    .dataframe tbody tr th {\n",
              "        vertical-align: top;\n",
              "    }\n",
              "\n",
              "    .dataframe thead th {\n",
              "        text-align: right;\n",
              "    }\n",
              "</style>\n",
              "<table border=\"1\" class=\"dataframe\">\n",
              "  <thead>\n",
              "    <tr style=\"text-align: right;\">\n",
              "      <th></th>\n",
              "      <th>Price</th>\n",
              "    </tr>\n",
              "  </thead>\n",
              "  <tbody>\n",
              "    <tr>\n",
              "      <th>count</th>\n",
              "      <td>14.000000</td>\n",
              "    </tr>\n",
              "    <tr>\n",
              "      <th>mean</th>\n",
              "      <td>32.857143</td>\n",
              "    </tr>\n",
              "    <tr>\n",
              "      <th>std</th>\n",
              "      <td>9.346798</td>\n",
              "    </tr>\n",
              "    <tr>\n",
              "      <th>min</th>\n",
              "      <td>15.000000</td>\n",
              "    </tr>\n",
              "    <tr>\n",
              "      <th>25%</th>\n",
              "      <td>26.250000</td>\n",
              "    </tr>\n",
              "    <tr>\n",
              "      <th>50%</th>\n",
              "      <td>35.000000</td>\n",
              "    </tr>\n",
              "    <tr>\n",
              "      <th>75%</th>\n",
              "      <td>38.750000</td>\n",
              "    </tr>\n",
              "    <tr>\n",
              "      <th>max</th>\n",
              "      <td>45.000000</td>\n",
              "    </tr>\n",
              "  </tbody>\n",
              "</table>\n",
              "</div>\n",
              "    <div class=\"colab-df-buttons\">\n",
              "\n",
              "  <div class=\"colab-df-container\">\n",
              "    <button class=\"colab-df-convert\" onclick=\"convertToInteractive('df-0c1ac3b9-584a-4b5b-a718-885926960334')\"\n",
              "            title=\"Convert this dataframe to an interactive table.\"\n",
              "            style=\"display:none;\">\n",
              "\n",
              "  <svg xmlns=\"http://www.w3.org/2000/svg\" height=\"24px\" viewBox=\"0 -960 960 960\">\n",
              "    <path d=\"M120-120v-720h720v720H120Zm60-500h600v-160H180v160Zm220 220h160v-160H400v160Zm0 220h160v-160H400v160ZM180-400h160v-160H180v160Zm440 0h160v-160H620v160ZM180-180h160v-160H180v160Zm440 0h160v-160H620v160Z\"/>\n",
              "  </svg>\n",
              "    </button>\n",
              "\n",
              "  <style>\n",
              "    .colab-df-container {\n",
              "      display:flex;\n",
              "      gap: 12px;\n",
              "    }\n",
              "\n",
              "    .colab-df-convert {\n",
              "      background-color: #E8F0FE;\n",
              "      border: none;\n",
              "      border-radius: 50%;\n",
              "      cursor: pointer;\n",
              "      display: none;\n",
              "      fill: #1967D2;\n",
              "      height: 32px;\n",
              "      padding: 0 0 0 0;\n",
              "      width: 32px;\n",
              "    }\n",
              "\n",
              "    .colab-df-convert:hover {\n",
              "      background-color: #E2EBFA;\n",
              "      box-shadow: 0px 1px 2px rgba(60, 64, 67, 0.3), 0px 1px 3px 1px rgba(60, 64, 67, 0.15);\n",
              "      fill: #174EA6;\n",
              "    }\n",
              "\n",
              "    .colab-df-buttons div {\n",
              "      margin-bottom: 4px;\n",
              "    }\n",
              "\n",
              "    [theme=dark] .colab-df-convert {\n",
              "      background-color: #3B4455;\n",
              "      fill: #D2E3FC;\n",
              "    }\n",
              "\n",
              "    [theme=dark] .colab-df-convert:hover {\n",
              "      background-color: #434B5C;\n",
              "      box-shadow: 0px 1px 3px 1px rgba(0, 0, 0, 0.15);\n",
              "      filter: drop-shadow(0px 1px 2px rgba(0, 0, 0, 0.3));\n",
              "      fill: #FFFFFF;\n",
              "    }\n",
              "  </style>\n",
              "\n",
              "    <script>\n",
              "      const buttonEl =\n",
              "        document.querySelector('#df-0c1ac3b9-584a-4b5b-a718-885926960334 button.colab-df-convert');\n",
              "      buttonEl.style.display =\n",
              "        google.colab.kernel.accessAllowed ? 'block' : 'none';\n",
              "\n",
              "      async function convertToInteractive(key) {\n",
              "        const element = document.querySelector('#df-0c1ac3b9-584a-4b5b-a718-885926960334');\n",
              "        const dataTable =\n",
              "          await google.colab.kernel.invokeFunction('convertToInteractive',\n",
              "                                                    [key], {});\n",
              "        if (!dataTable) return;\n",
              "\n",
              "        const docLinkHtml = 'Like what you see? Visit the ' +\n",
              "          '<a target=\"_blank\" href=https://colab.research.google.com/notebooks/data_table.ipynb>data table notebook</a>'\n",
              "          + ' to learn more about interactive tables.';\n",
              "        element.innerHTML = '';\n",
              "        dataTable['output_type'] = 'display_data';\n",
              "        await google.colab.output.renderOutput(dataTable, element);\n",
              "        const docLink = document.createElement('div');\n",
              "        docLink.innerHTML = docLinkHtml;\n",
              "        element.appendChild(docLink);\n",
              "      }\n",
              "    </script>\n",
              "  </div>\n",
              "\n",
              "\n",
              "    <div id=\"df-08aa1d7a-11f1-4eba-b2fe-79c497552c04\">\n",
              "      <button class=\"colab-df-quickchart\" onclick=\"quickchart('df-08aa1d7a-11f1-4eba-b2fe-79c497552c04')\"\n",
              "                title=\"Suggest charts\"\n",
              "                style=\"display:none;\">\n",
              "\n",
              "<svg xmlns=\"http://www.w3.org/2000/svg\" height=\"24px\"viewBox=\"0 0 24 24\"\n",
              "     width=\"24px\">\n",
              "    <g>\n",
              "        <path d=\"M19 3H5c-1.1 0-2 .9-2 2v14c0 1.1.9 2 2 2h14c1.1 0 2-.9 2-2V5c0-1.1-.9-2-2-2zM9 17H7v-7h2v7zm4 0h-2V7h2v10zm4 0h-2v-4h2v4z\"/>\n",
              "    </g>\n",
              "</svg>\n",
              "      </button>\n",
              "\n",
              "<style>\n",
              "  .colab-df-quickchart {\n",
              "      --bg-color: #E8F0FE;\n",
              "      --fill-color: #1967D2;\n",
              "      --hover-bg-color: #E2EBFA;\n",
              "      --hover-fill-color: #174EA6;\n",
              "      --disabled-fill-color: #AAA;\n",
              "      --disabled-bg-color: #DDD;\n",
              "  }\n",
              "\n",
              "  [theme=dark] .colab-df-quickchart {\n",
              "      --bg-color: #3B4455;\n",
              "      --fill-color: #D2E3FC;\n",
              "      --hover-bg-color: #434B5C;\n",
              "      --hover-fill-color: #FFFFFF;\n",
              "      --disabled-bg-color: #3B4455;\n",
              "      --disabled-fill-color: #666;\n",
              "  }\n",
              "\n",
              "  .colab-df-quickchart {\n",
              "    background-color: var(--bg-color);\n",
              "    border: none;\n",
              "    border-radius: 50%;\n",
              "    cursor: pointer;\n",
              "    display: none;\n",
              "    fill: var(--fill-color);\n",
              "    height: 32px;\n",
              "    padding: 0;\n",
              "    width: 32px;\n",
              "  }\n",
              "\n",
              "  .colab-df-quickchart:hover {\n",
              "    background-color: var(--hover-bg-color);\n",
              "    box-shadow: 0 1px 2px rgba(60, 64, 67, 0.3), 0 1px 3px 1px rgba(60, 64, 67, 0.15);\n",
              "    fill: var(--button-hover-fill-color);\n",
              "  }\n",
              "\n",
              "  .colab-df-quickchart-complete:disabled,\n",
              "  .colab-df-quickchart-complete:disabled:hover {\n",
              "    background-color: var(--disabled-bg-color);\n",
              "    fill: var(--disabled-fill-color);\n",
              "    box-shadow: none;\n",
              "  }\n",
              "\n",
              "  .colab-df-spinner {\n",
              "    border: 2px solid var(--fill-color);\n",
              "    border-color: transparent;\n",
              "    border-bottom-color: var(--fill-color);\n",
              "    animation:\n",
              "      spin 1s steps(1) infinite;\n",
              "  }\n",
              "\n",
              "  @keyframes spin {\n",
              "    0% {\n",
              "      border-color: transparent;\n",
              "      border-bottom-color: var(--fill-color);\n",
              "      border-left-color: var(--fill-color);\n",
              "    }\n",
              "    20% {\n",
              "      border-color: transparent;\n",
              "      border-left-color: var(--fill-color);\n",
              "      border-top-color: var(--fill-color);\n",
              "    }\n",
              "    30% {\n",
              "      border-color: transparent;\n",
              "      border-left-color: var(--fill-color);\n",
              "      border-top-color: var(--fill-color);\n",
              "      border-right-color: var(--fill-color);\n",
              "    }\n",
              "    40% {\n",
              "      border-color: transparent;\n",
              "      border-right-color: var(--fill-color);\n",
              "      border-top-color: var(--fill-color);\n",
              "    }\n",
              "    60% {\n",
              "      border-color: transparent;\n",
              "      border-right-color: var(--fill-color);\n",
              "    }\n",
              "    80% {\n",
              "      border-color: transparent;\n",
              "      border-right-color: var(--fill-color);\n",
              "      border-bottom-color: var(--fill-color);\n",
              "    }\n",
              "    90% {\n",
              "      border-color: transparent;\n",
              "      border-bottom-color: var(--fill-color);\n",
              "    }\n",
              "  }\n",
              "</style>\n",
              "\n",
              "      <script>\n",
              "        async function quickchart(key) {\n",
              "          const quickchartButtonEl =\n",
              "            document.querySelector('#' + key + ' button');\n",
              "          quickchartButtonEl.disabled = true;  // To prevent multiple clicks.\n",
              "          quickchartButtonEl.classList.add('colab-df-spinner');\n",
              "          try {\n",
              "            const charts = await google.colab.kernel.invokeFunction(\n",
              "                'suggestCharts', [key], {});\n",
              "          } catch (error) {\n",
              "            console.error('Error during call to suggestCharts:', error);\n",
              "          }\n",
              "          quickchartButtonEl.classList.remove('colab-df-spinner');\n",
              "          quickchartButtonEl.classList.add('colab-df-quickchart-complete');\n",
              "        }\n",
              "        (() => {\n",
              "          let quickchartButtonEl =\n",
              "            document.querySelector('#df-08aa1d7a-11f1-4eba-b2fe-79c497552c04 button');\n",
              "          quickchartButtonEl.style.display =\n",
              "            google.colab.kernel.accessAllowed ? 'block' : 'none';\n",
              "        })();\n",
              "      </script>\n",
              "    </div>\n",
              "\n",
              "    </div>\n",
              "  </div>\n"
            ],
            "application/vnd.google.colaboratory.intrinsic+json": {
              "type": "dataframe",
              "summary": "{\n  \"name\": \"df\",\n  \"rows\": 8,\n  \"fields\": [\n    {\n      \"column\": \"Price\",\n      \"properties\": {\n        \"dtype\": \"number\",\n        \"std\": 13.014066322843886,\n        \"min\": 9.346798241250173,\n        \"max\": 45.0,\n        \"num_unique_values\": 8,\n        \"samples\": [\n          32.857142857142854,\n          35.0,\n          14.0\n        ],\n        \"semantic_type\": \"\",\n        \"description\": \"\"\n      }\n    }\n  ]\n}"
            }
          },
          "metadata": {},
          "execution_count": 21
        }
      ]
    },
    {
      "cell_type": "code",
      "source": [
        "bios = pd.read_csv('https://raw.githubusercontent.com/suvajitroy60/Pandas-handling-CSVs/refs/heads/main/data/bios.csv')\n",
        "results = pd.read_csv('https://raw.githubusercontent.com/suvajitroy60/Pandas-handling-CSVs/refs/heads/main/data/results.csv')\n",
        "\n"
      ],
      "metadata": {
        "id": "4yeqdYTCfKjO"
      },
      "execution_count": null,
      "outputs": []
    },
    {
      "cell_type": "markdown",
      "source": [
        "# Display the DataFrame"
      ],
      "metadata": {
        "id": "_OSS4swiOode"
      }
    },
    {
      "cell_type": "code",
      "source": [
        "print(\"Original DataFrame:\")\n",
        "print(df)"
      ],
      "metadata": {
        "colab": {
          "base_uri": "https://localhost:8080/"
        },
        "id": "86J-xWwMOtsp",
        "outputId": "eedf3ca4-b1e6-472f-b71c-593f4a8848d3"
      },
      "execution_count": null,
      "outputs": [
        {
          "output_type": "stream",
          "name": "stdout",
          "text": [
            "Original DataFrame:\n",
            "          Day Coffee Type  Units Sold\n",
            "0      Monday    Espresso          25\n",
            "1      Monday       Latte          15\n",
            "2     Tuesday    Espresso          30\n",
            "3     Tuesday       Latte          20\n",
            "4   Wednesday    Espresso          35\n",
            "5   Wednesday       Latte          25\n",
            "6    Thursday    Espresso          40\n",
            "7    Thursday       Latte          30\n",
            "8      Friday    Espresso          45\n",
            "9      Friday       Latte          35\n",
            "10   Saturday    Espresso          45\n",
            "11   Saturday       Latte          35\n",
            "12     Sunday    Espresso          45\n",
            "13     Sunday       Latte          35\n"
          ]
        }
      ]
    },
    {
      "cell_type": "markdown",
      "source": [
        "# --- Accessing Data ---\n",
        "\n",
        "# Using .loc to access rows by label"
      ],
      "metadata": {
        "id": "w3S2c6wmOv_3"
      }
    },
    {
      "cell_type": "markdown",
      "source": [
        "print(\"\\nAccessing row with index 1 using .loc:\")\n",
        "print(coffee.loc[1])"
      ],
      "metadata": {
        "id": "fEYMqIeYO2Cw"
      }
    },
    {
      "cell_type": "markdown",
      "source": [
        "# Applying a function to a column"
      ],
      "metadata": {
        "id": "YcS4DUX3RlJw"
      }
    },
    {
      "cell_type": "code",
      "source": [],
      "metadata": {
        "id": "6If3VIUuRsWQ"
      },
      "execution_count": null,
      "outputs": []
    },
    {
      "source": [
        "print(\"\\nAccessing row at index 2 using .iloc:\")\n",
        "print(coffee.iloc[2])"
      ],
      "cell_type": "code",
      "metadata": {
        "colab": {
          "base_uri": "https://localhost:8080/"
        },
        "id": "Z8NA4hM1RwHv",
        "outputId": "2afc54fd-77cd-4075-d630-0140496bea88"
      },
      "execution_count": null,
      "outputs": [
        {
          "output_type": "stream",
          "name": "stdout",
          "text": [
            "\n",
            "Accessing row at index 2 using .iloc:\n",
            "Day             Tuesday\n",
            "Coffee Type    Espresso\n",
            "Units Sold           30\n",
            "Name: 2, dtype: object\n"
          ]
        }
      ]
    },
    {
      "source": [
        "print(\"\\nAccessing value at row label 0 and column 'Price' using .at:\")\n",
        "print(coffee.at[0, 'Price'])"
      ],
      "cell_type": "code",
      "metadata": {
        "colab": {
          "base_uri": "https://localhost:8080/"
        },
        "id": "SUbfD1kRRxQ1",
        "outputId": "a46bd29a-7a4c-4aef-bf37-0d8f0d3cea67"
      },
      "execution_count": null,
      "outputs": [
        {
          "output_type": "stream",
          "name": "stdout",
          "text": [
            "\n",
            "Accessing value at row label 0 and column 'Price' using .at:\n",
            "3.5\n"
          ]
        }
      ]
    },
    {
      "source": [
        "print(\"\\nAccessing value at row index 3 and column index 1 (Category) using .iloc:\")\n",
        "print(coffee.iloc[3, 1])"
      ],
      "cell_type": "code",
      "metadata": {
        "colab": {
          "base_uri": "https://localhost:8080/"
        },
        "id": "FHP875QORxq2",
        "outputId": "a8018a29-ba68-4a99-8d0a-f4246172cb4e"
      },
      "execution_count": null,
      "outputs": [
        {
          "output_type": "stream",
          "name": "stdout",
          "text": [
            "\n",
            "Accessing value at row index 3 and column index 1 (Category) using .iloc:\n",
            "Pastry\n"
          ]
        }
      ]
    },
    {
      "cell_type": "markdown",
      "source": [
        "NumPy array first. However, for the operation of checking for substring presence, pandas .str.contains() is the recommended approach when working with DataFrames.\n",
        "---\n",
        "Sources\n",
        "[https://numpy.org/doc/1.25/reference/routines.char.html](https://numpy.org/doc/1.25/reference/routines.char.html)\n",
        "---"
      ],
      "metadata": {
        "id": "6TQ2k9uwSVAM"
      }
    },
    {
      "cell_type": "code",
      "source": [
        "print(\"\\nConverting 'Item' names to lowercase:\")\n",
        "coffee['Item_lower'] = coffee['Item'].str.lower()\n",
        "print(coffee)"
      ],
      "metadata": {
        "colab": {
          "base_uri": "https://localhost:8080/"
        },
        "id": "soqKPuzFTgm_",
        "outputId": "a4e5de89-b028-4ef7-8eb6-d4e7f8a99bb2"
      },
      "execution_count": null,
      "outputs": [
        {
          "output_type": "stream",
          "name": "stdout",
          "text": [
            "\n",
            "Checking if 'col2' contains the letter 'A':\n",
            "   col1 col2  col3  col1_squared col2_lower  col2_contains_A\n",
            "0     1    A  10.1             1          a             True\n",
            "1     2    B  11.2             4          b            False\n",
            "2     3    C  12.3             9          c            False\n",
            "3     4    D  13.4            16          d            False\n",
            "4     5    E   NaN            25          e            False\n"
          ]
        }
      ]
    },
    {
      "source": [
        "print(\"\\nChecking if 'Category' contains the substring 'Dr':\")\n",
        "coffee['Is_Drink_Category'] = coffee['Category'].str.contains('Dr')\n",
        "print(coffee)"
      ],
      "cell_type": "code",
      "metadata": {
        "id": "mMmRyFvcR0Bf"
      },
      "execution_count": null,
      "outputs": []
    },
    {
      "cell_type": "markdown",
      "source": [],
      "metadata": {
        "id": "r7mla4pLSxXP"
      }
    },
    {
      "source": [
        "print(\"\\nSelecting a single column ('Price'):\")\n",
        "print(coffee['Price'])"
      ],
      "cell_type": "code",
      "metadata": {
        "id": "w2K2aQYcQ4qd"
      },
      "execution_count": null,
      "outputs": []
    },
    {
      "cell_type": "code",
      "source": [
        "print(\"\\nSelecting multiple columns ('Item' and 'Price'):\")\n",
        "print(coffee[['Item', 'Price']])"
      ],
      "metadata": {
        "id": "DWkdd1b8T3OZ"
      },
      "execution_count": null,
      "outputs": []
    },
    {
      "cell_type": "markdown",
      "source": [
        "# Filtering Values"
      ],
      "metadata": {
        "id": "8oHyrECjT_Ze"
      }
    },
    {
      "cell_type": "code",
      "source": [
        "print(\"\\nFiltering rows where 'Price' is greater than 4.00:\")\n",
        "print(coffee[coffee['Price'] > 4.00])"
      ],
      "metadata": {
        "id": "X_uCJrzNUGIP"
      },
      "execution_count": null,
      "outputs": []
    },
    {
      "cell_type": "code",
      "source": [
        "print(\"\\nFiltering rows where 'Category' is 'Drink' AND 'In_Stock' is True:\")\n",
        "print(coffee[(coffee['Category'] == 'Drink') & (coffee['In_Stock'] == True)])"
      ],
      "metadata": {
        "colab": {
          "base_uri": "https://localhost:8080/"
        },
        "id": "sS6SK9RHUIhe",
        "outputId": "ded286fd-0441-489a-b522-e49144dd9098"
      },
      "execution_count": null,
      "outputs": [
        {
          "output_type": "stream",
          "name": "stdout",
          "text": [
            "\n",
            "Filtering rows where 'Category' is 'Drink' AND 'In_Stock' is True:\n",
            "         Item Category  Price  In_Stock\n",
            "0    Espresso    Drink   3.50      True\n",
            "1       Latte    Drink   4.00      True\n",
            "2  Cappuccino    Drink   4.25      True\n"
          ]
        }
      ]
    },
    {
      "cell_type": "markdown",
      "source": [
        "# Null Remove"
      ],
      "metadata": {
        "id": "gYuCWKNbUQYY"
      }
    },
    {
      "cell_type": "code",
      "source": [
        "print(\"\\nDataFrame after dropping rows with null values:\")\n",
        "print(coffee.dropna())"
      ],
      "metadata": {
        "colab": {
          "base_uri": "https://localhost:8080/"
        },
        "id": "csnKxIUAUTwd",
        "outputId": "dfb53cc1-faea-408c-d41b-866ddac25151"
      },
      "execution_count": null,
      "outputs": [
        {
          "output_type": "stream",
          "name": "stdout",
          "text": [
            "\n",
            "DataFrame after dropping rows with null values:\n",
            "         Item Category  Price  In_Stock\n",
            "0    Espresso    Drink   3.50      True\n",
            "1       Latte    Drink   4.00      True\n",
            "2  Cappuccino    Drink   4.25      True\n",
            "3   Croissant   Pastry   2.50      True\n",
            "4      Muffin   Pastry   2.75     False\n",
            "5    Sandwich     Food   5.00      True\n",
            "6       Salad     Food   6.00      True\n"
          ]
        }
      ]
    },
    {
      "cell_type": "code",
      "source": [
        "print(\"\\nDataFrame after filling null values with 0 (e.g., for missing stock counts):\")\n",
        "print(coffee.fillna(0))"
      ],
      "metadata": {
        "colab": {
          "base_uri": "https://localhost:8080/"
        },
        "id": "s2ObMFoWUVtC",
        "outputId": "f0d16691-9577-47c6-dc64-60bc01eb3d2a"
      },
      "execution_count": null,
      "outputs": [
        {
          "output_type": "stream",
          "name": "stdout",
          "text": [
            "\n",
            "DataFrame after filling null values with 0 (e.g., for missing stock counts):\n",
            "         Item Category  Price  In_Stock\n",
            "0    Espresso    Drink   3.50      True\n",
            "1       Latte    Drink   4.00      True\n",
            "2  Cappuccino    Drink   4.25      True\n",
            "3   Croissant   Pastry   2.50      True\n",
            "4      Muffin   Pastry   2.75     False\n",
            "5    Sandwich     Food   5.00      True\n",
            "6       Salad     Food   6.00      True\n"
          ]
        }
      ]
    },
    {
      "cell_type": "code",
      "source": [
        "print(\"\\nDescriptive statistics for numerical columns:\")\n",
        "print(coffee.describe())"
      ],
      "metadata": {
        "colab": {
          "base_uri": "https://localhost:8080/"
        },
        "id": "BrNJydWAUXit",
        "outputId": "24efa3f9-60e9-436d-c514-79760abbf88a"
      },
      "execution_count": null,
      "outputs": [
        {
          "output_type": "stream",
          "name": "stdout",
          "text": [
            "\n",
            "Descriptive statistics for numerical columns:\n",
            "       Units Sold\n",
            "count   14.000000\n",
            "mean    32.857143\n",
            "std      9.346798\n",
            "min     15.000000\n",
            "25%     26.250000\n",
            "50%     35.000000\n",
            "75%     38.750000\n",
            "max     45.000000\n"
          ]
        }
      ]
    },
    {
      "cell_type": "code",
      "source": [
        "print(\"\\nGrouping by 'Category' and calculating the average 'Price':\")\n",
        "print(coffee.groupby('Category')['Price'].mean())"
      ],
      "metadata": {
        "colab": {
          "base_uri": "https://localhost:8080/"
        },
        "id": "B0PtLGNIUajL",
        "outputId": "45904b69-1eb7-4ad1-f20c-e102c68ab0d7"
      },
      "execution_count": null,
      "outputs": [
        {
          "output_type": "stream",
          "name": "stdout",
          "text": [
            "\n",
            "Grouping by 'Category' and calculating the average 'Price':\n",
            "Category\n",
            "Drink     3.916667\n",
            "Food      5.500000\n",
            "Pastry    2.625000\n",
            "Name: Price, dtype: float64\n"
          ]
        }
      ]
    },
    {
      "cell_type": "code",
      "source": [
        "print(\"\\nSorting by 'Price' in ascending order:\")\n",
        "print(coffee.sort_values(by='Price'))"
      ],
      "metadata": {
        "colab": {
          "base_uri": "https://localhost:8080/"
        },
        "id": "87KO7VHAUilo",
        "outputId": "e0a134fa-18ad-4cd3-b75c-894b593a3a3e"
      },
      "execution_count": null,
      "outputs": [
        {
          "output_type": "stream",
          "name": "stdout",
          "text": [
            "\n",
            "Sorting by 'Price' in ascending order:\n",
            "         Item Category  Price  In_Stock\n",
            "3   Croissant   Pastry   2.50      True\n",
            "4      Muffin   Pastry   2.75     False\n",
            "0    Espresso    Drink   3.50      True\n",
            "1       Latte    Drink   4.00      True\n",
            "2  Cappuccino    Drink   4.25      True\n",
            "5    Sandwich     Food   5.00      True\n",
            "6       Salad     Food   6.00      True\n"
          ]
        }
      ]
    },
    {
      "cell_type": "code",
      "source": [
        "print(coffee.groupby ('Category')['Price'].mean())"
      ],
      "metadata": {
        "colab": {
          "base_uri": "https://localhost:8080/"
        },
        "id": "k-zRnUbhhARy",
        "outputId": "a88d6946-11de-425e-f026-7e0d59535ad6"
      },
      "execution_count": null,
      "outputs": [
        {
          "output_type": "stream",
          "name": "stdout",
          "text": [
            "Category\n",
            "Drink     3.916667\n",
            "Food      5.500000\n",
            "Pastry    2.625000\n",
            "Name: Price, dtype: float64\n"
          ]
        }
      ]
    },
    {
      "cell_type": "code",
      "source": [
        "print(\"\\nSorting by 'In_Stock' (False first, then True):\")\n",
        "print(coffee.sort_values(by='In_Stock'))"
      ],
      "metadata": {
        "colab": {
          "base_uri": "https://localhost:8080/"
        },
        "id": "JI17x0yBhB7u",
        "outputId": "0fd0b54e-c93a-49c0-ea4c-27afdb24c803"
      },
      "execution_count": null,
      "outputs": [
        {
          "output_type": "stream",
          "name": "stdout",
          "text": [
            "\n",
            "Sorting by 'In_Stock' (False first, then True):\n",
            "         Item Category  Price  In_Stock\n",
            "4      Muffin   Pastry   2.75     False\n",
            "0    Espresso    Drink   3.50      True\n",
            "1       Latte    Drink   4.00      True\n",
            "2  Cappuccino    Drink   4.25      True\n",
            "3   Croissant   Pastry   2.50      True\n",
            "5    Sandwich     Food   5.00      True\n",
            "6       Salad     Food   6.00      True\n"
          ]
        }
      ]
    }
  ],
  "metadata": {
    "colab": {
      "name": "Snippets: Importing libraries",
      "provenance": [],
      "include_colab_link": true
    },
    "kernelspec": {
      "display_name": "Python 3",
      "name": "python3"
    }
  },
  "nbformat": 4,
  "nbformat_minor": 0
}